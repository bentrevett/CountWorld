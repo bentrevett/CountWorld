{
 "cells": [
  {
   "cell_type": "code",
   "execution_count": 1,
   "metadata": {},
   "outputs": [],
   "source": [
    "import torch\n",
    "import utils\n",
    "\n",
    "device = torch.device('cuda' if torch.cuda.is_available() else 'cpu')"
   ]
  },
  {
   "cell_type": "code",
   "execution_count": 2,
   "metadata": {},
   "outputs": [],
   "source": [
    "train_data, valid_data, test_data, word2idx, idx2word = utils.load_data('data', device)"
   ]
  },
  {
   "cell_type": "code",
   "execution_count": 3,
   "metadata": {},
   "outputs": [
    {
     "name": "stdout",
     "output_type": "stream",
     "text": [
      "(tensor([[ 30,  50,  24,  17,  25],\n",
      "        [ 26,  50,  24,  17,  25],\n",
      "        [ 30,  50,  24,  17,  37],\n",
      "        [ 30,  62,  58,  48,  52],\n",
      "        [ 26,  62,  58,  32,  27],\n",
      "        [ 26,  50,  24,  17,  37],\n",
      "        [ 26,  15,  32,  27,   0],\n",
      "        [ 30,  50,  24,  17,  25],\n",
      "        [ 26,  62,  58,  48,  27],\n",
      "        [ 26,  50,  24,  17,  25],\n",
      "        [ 30,  50,  24,  17,  37],\n",
      "        [ 30,  62,  58,  41,  27],\n",
      "        [ 30,  15,  48,  27,   0],\n",
      "        [ 30,  50,  24,  17,  25],\n",
      "        [ 26,  62,  58,  32,  27],\n",
      "        [ 30,  62,  58,  41,  52],\n",
      "        [ 30,  62,  58,  41,  27],\n",
      "        [ 26,  62,  58,  41,  52],\n",
      "        [ 30,  50,  24,  17,  37],\n",
      "        [ 30,  62,  58,  32,  27]], device='cuda:0'), tensor([[  6,  29,  56,  51,  52,  62,  58,  38,  17,  37,  59],\n",
      "        [  6,  29,  56,   4,  26,  39,  17,  37,  59,   0,   0]], device='cuda:0'), tensor([[ 1],\n",
      "        [ 1]], device='cuda:0'))\n"
     ]
    }
   ],
   "source": [
    "print(train_data[0])"
   ]
  },
  {
   "cell_type": "code",
   "execution_count": 5,
   "metadata": {},
   "outputs": [
    {
     "data": {
      "text/plain": [
       "torch.Size([2, 11])"
      ]
     },
     "execution_count": 5,
     "metadata": {},
     "output_type": "execute_result"
    }
   ],
   "source": [
    "train_data[0][1].shape"
   ]
  },
  {
   "cell_type": "code",
   "execution_count": null,
   "metadata": {},
   "outputs": [],
   "source": []
  }
 ],
 "metadata": {
  "kernelspec": {
   "display_name": "Python 3",
   "language": "python",
   "name": "python3"
  },
  "language_info": {
   "codemirror_mode": {
    "name": "ipython",
    "version": 3
   },
   "file_extension": ".py",
   "mimetype": "text/x-python",
   "name": "python",
   "nbconvert_exporter": "python",
   "pygments_lexer": "ipython3",
   "version": "3.6.5"
  }
 },
 "nbformat": 4,
 "nbformat_minor": 2
}
